{
 "cells": [
  {
   "cell_type": "markdown",
   "id": "829eb982",
   "metadata": {},
   "source": [
    "## LASSO REGRESSION   "
   ]
  },
  {
   "cell_type": "code",
   "execution_count": 84,
   "id": "f0be69f9",
   "metadata": {},
   "outputs": [],
   "source": [
    "import numpy as np"
   ]
  },
  {
   "cell_type": "code",
   "execution_count": 78,
   "id": "e4c39e86",
   "metadata": {},
   "outputs": [],
   "source": [
    "class Lasso():\n",
    "    #initating the hyperparameters\n",
    "    def __init__(self,learning_rate,no_of_iterations,lambda_parameter):\n",
    "        \n",
    "        self.learning_rate=learning_rate# Learning rate for gradient descent\n",
    "        self.no_of_iterations=no_of_iterations# Number of iterations for gradient descent\n",
    "        self.lambda_parameter=lambda_parameter# Lasso regularization parameter-penalty term\n",
    "        \n",
    "    #fit function\n",
    "    def fit(self,X,Y):\n",
    "        # m-->number of datapoints(rows)\n",
    "        # n-->input features(columns)\n",
    "        # number of weights=number of input features\n",
    "        self.m,self.n=X.shape\n",
    "        \n",
    "        #initiating zeros into weight array.\n",
    "        self.w=np.zeros(self.n) # Weight array\n",
    "        self.b=0 #bias\n",
    "        \n",
    "        self.X=X  # Input features\n",
    "        \n",
    "        self.Y=Y  # Target varaibles\n",
    "       \n",
    "    \n",
    "        #Gradient Descent\n",
    "        \n",
    "        for i in range(self.no_of_iterations):\n",
    "            \n",
    "            self.update_weights()\n",
    "    \n",
    "    \n",
    "    # Update the weights and bias to minimize the loss function\n",
    "    def update_weights(self):\n",
    "        \n",
    "        Y_predict=self.predict(self.X) # Predicted target values\n",
    "        \n",
    "        #gradients(dw,db)\n",
    "        \n",
    "        #gradient for weights\n",
    "        dw=np.zeros(self.n)\n",
    "        \n",
    "        for i in range(self.n):\n",
    "        \n",
    "            if self.w[i]>0:\n",
    "                \n",
    "                dw[i]=(-(2*(self.X[:,i].dot(self.Y-Y_predict))+self.lambda_parameter)/self.m)\n",
    "                \n",
    "            else:\n",
    "                \n",
    "                dw[i]=(-(2*(self.X[:,i].dot(self.Y-Y_predict))-self.lambda_parameter)/self.m)\n",
    "                \n",
    "                \n",
    "        #gradient for bias        \n",
    "        db=-2 * np.sum(self.Y-Y_predict)/self.m\n",
    "        \n",
    "        #update the weight and bias\n",
    "        self.w=self.w-self.learning_rate*dw\n",
    "        self.b=self.b-self.learning_rate*db\n",
    "                \n",
    "    #prediction of target variable\n",
    "    def predict(self,X): \n",
    "        \n",
    "         # Y = w * X + b\n",
    "        return X.dot(self.w)+self.b"
   ]
  },
  {
   "cell_type": "code",
   "execution_count": 9,
   "id": "cf4bf4f7",
   "metadata": {},
   "outputs": [],
   "source": [
    "# importing the dependencies\n",
    "import numpy as np\n",
    "import pandas as pd\n",
    "from sklearn.model_selection import train_test_split\n",
    "import matplotlib.pyplot as plt\n",
    "from sklearn import metrics"
   ]
  },
  {
   "cell_type": "markdown",
   "id": "9574c4ed",
   "metadata": {},
   "source": [
    "#### Data Pre-Processing"
   ]
  },
  {
   "cell_type": "code",
   "execution_count": 38,
   "id": "17697299",
   "metadata": {},
   "outputs": [],
   "source": [
    "# Read the CSV file 'Salary_Data.csv' into a DataFrame\n",
    "salary_data = pd.read_csv('Salary_Data.csv')"
   ]
  },
  {
   "cell_type": "code",
   "execution_count": 76,
   "id": "0c3dfbfb",
   "metadata": {},
   "outputs": [
    {
     "data": {
      "text/plain": [
       "(30, 2)"
      ]
     },
     "execution_count": 76,
     "metadata": {},
     "output_type": "execute_result"
    }
   ],
   "source": [
    "salary_data.shape"
   ]
  },
  {
   "cell_type": "code",
   "execution_count": 44,
   "id": "8fb7a976",
   "metadata": {},
   "outputs": [
    {
     "data": {
      "text/plain": [
       "YearsExperience    0\n",
       "Salary             0\n",
       "dtype: int64"
      ]
     },
     "execution_count": 44,
     "metadata": {},
     "output_type": "execute_result"
    }
   ],
   "source": [
    "# checking for missing values\n",
    "salary_data.isnull().sum()"
   ]
  },
  {
   "cell_type": "code",
   "execution_count": 77,
   "id": "b703351d",
   "metadata": {},
   "outputs": [],
   "source": [
    "# Extract features from the 'salary_data' DataFrame\n",
    "features = salary_data.iloc[:,:-1].values  \n",
    "# Extract target values from the 'salary_data' DataFrame\n",
    "target = salary_data.iloc[:,1].values"
   ]
  },
  {
   "cell_type": "code",
   "execution_count": 46,
   "id": "b4740bb9",
   "metadata": {},
   "outputs": [
    {
     "name": "stdout",
     "output_type": "stream",
     "text": [
      "[[ 1.1]\n",
      " [ 1.3]\n",
      " [ 1.5]\n",
      " [ 2. ]\n",
      " [ 2.2]\n",
      " [ 2.9]\n",
      " [ 3. ]\n",
      " [ 3.2]\n",
      " [ 3.2]\n",
      " [ 3.7]\n",
      " [ 3.9]\n",
      " [ 4. ]\n",
      " [ 4. ]\n",
      " [ 4.1]\n",
      " [ 4.5]\n",
      " [ 4.9]\n",
      " [ 5.1]\n",
      " [ 5.3]\n",
      " [ 5.9]\n",
      " [ 6. ]\n",
      " [ 6.8]\n",
      " [ 7.1]\n",
      " [ 7.9]\n",
      " [ 8.2]\n",
      " [ 8.7]\n",
      " [ 9. ]\n",
      " [ 9.5]\n",
      " [ 9.6]\n",
      " [10.3]\n",
      " [10.5]]\n"
     ]
    }
   ],
   "source": [
    "print(features)"
   ]
  },
  {
   "cell_type": "code",
   "execution_count": 47,
   "id": "cd6efaed",
   "metadata": {},
   "outputs": [
    {
     "name": "stdout",
     "output_type": "stream",
     "text": [
      "[ 39343.  46205.  37731.  43525.  39891.  56642.  60150.  54445.  64445.\n",
      "  57189.  63218.  55794.  56957.  57081.  61111.  67938.  66029.  83088.\n",
      "  81363.  93940.  91738.  98273. 101302. 113812. 109431. 105582. 116969.\n",
      " 112635. 122391. 121872.]\n"
     ]
    }
   ],
   "source": [
    "print(target)"
   ]
  },
  {
   "cell_type": "markdown",
   "id": "9a9a30d8",
   "metadata": {},
   "source": [
    "#### Test & Train data"
   ]
  },
  {
   "cell_type": "code",
   "execution_count": 79,
   "id": "9c769f99",
   "metadata": {},
   "outputs": [],
   "source": [
    "X_train, X_test, Y_train, Y_test = train_test_split(features, target, test_size=0.20, random_state = 3)\n",
    "# Splitting the dataset into training and testing sets\n",
    "# X_train: Training features, X_test: Testing features\n",
    "# Y_train: Training target values, Y_test: Testing target values\n",
    "# test_size=0.20: Allocating 20% of the data for testing, 80% for training\n",
    "# random_state=3: Setting a random seed for reproducibility"
   ]
  },
  {
   "cell_type": "markdown",
   "id": "187c5722",
   "metadata": {},
   "source": [
    "#### Training the LASSO model"
   ]
  },
  {
   "cell_type": "code",
   "execution_count": 69,
   "id": "6dbeda2a",
   "metadata": {},
   "outputs": [],
   "source": [
    "# Create an instance of the Lasso regression model\n",
    "model = Lasso(learning_rate = 0.02, no_of_iterations=1000,lambda_parameter=200)"
   ]
  },
  {
   "cell_type": "code",
   "execution_count": 80,
   "id": "242c5a43",
   "metadata": {},
   "outputs": [],
   "source": [
    "# Train the Lasso regression model using the training data\n",
    "model.fit(X_train, Y_train)"
   ]
  },
  {
   "cell_type": "markdown",
   "id": "0b59c093",
   "metadata": {},
   "source": [
    "#### Prediction"
   ]
  },
  {
   "cell_type": "code",
   "execution_count": 81,
   "id": "61e896e2",
   "metadata": {},
   "outputs": [],
   "source": [
    "# Generate predictions using the trained Lasso regression model on the test data\n",
    "test_data_prediction = model.predict(X_test)"
   ]
  },
  {
   "cell_type": "code",
   "execution_count": 82,
   "id": "9f3a2de6",
   "metadata": {},
   "outputs": [
    {
     "name": "stdout",
     "output_type": "stream",
     "text": [
      "[ 72348.09147891  53509.39563124 100606.13525042 115677.09192856\n",
      "  81767.43940275  68580.35230938]\n"
     ]
    }
   ],
   "source": [
    "print(test_data_prediction)"
   ]
  },
  {
   "cell_type": "code",
   "execution_count": 83,
   "id": "aded91ae",
   "metadata": {},
   "outputs": [
    {
     "name": "stdout",
     "output_type": "stream",
     "text": [
      "R squared error :  0.9695095870223456\n",
      "Mean Absolute Error :  2900.7100634694325\n"
     ]
    }
   ],
   "source": [
    "from sklearn import metrics\n",
    "\n",
    "# R squared error\n",
    "# It calculates the R-squared (coefficient of determination) score, \n",
    "#which indicates how well the predicted values fit the actual values. \n",
    "#An R-squared value closer to 1 indicates a better fit.\n",
    "score_r_square = metrics.r2_score(Y_test, test_data_prediction)\n",
    "\n",
    "# Mean Absolute Error\n",
    "#A lower MAE indicates better model performance.\n",
    "score_mean_absolute = metrics.mean_absolute_error(Y_test, test_data_prediction)\n",
    "\n",
    "print(\"R squared error : \", score_r_square)\n",
    "print('Mean Absolute Error : ', score_mean_absolute )"
   ]
  },
  {
   "cell_type": "code",
   "execution_count": null,
   "id": "296d2c62",
   "metadata": {},
   "outputs": [],
   "source": []
  }
 ],
 "metadata": {
  "kernelspec": {
   "display_name": "Python 3 (ipykernel)",
   "language": "python",
   "name": "python3"
  },
  "language_info": {
   "codemirror_mode": {
    "name": "ipython",
    "version": 3
   },
   "file_extension": ".py",
   "mimetype": "text/x-python",
   "name": "python",
   "nbconvert_exporter": "python",
   "pygments_lexer": "ipython3",
   "version": "3.10.10"
  }
 },
 "nbformat": 4,
 "nbformat_minor": 5
}
